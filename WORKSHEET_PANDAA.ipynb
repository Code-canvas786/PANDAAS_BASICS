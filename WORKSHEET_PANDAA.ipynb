{
  "nbformat": 4,
  "nbformat_minor": 0,
  "metadata": {
    "colab": {
      "provenance": []
    },
    "kernelspec": {
      "name": "python3",
      "display_name": "Python 3"
    },
    "language_info": {
      "name": "python"
    }
  },
  "cells": [
    {
      "cell_type": "code",
      "execution_count": null,
      "metadata": {
        "colab": {
          "base_uri": "https://localhost:8080/"
        },
        "id": "FjgDLKqV4HHk",
        "outputId": "122cc249-9e29-4f33-9da6-c050102eb929"
      },
      "outputs": [
        {
          "output_type": "stream",
          "name": "stdout",
          "text": [
            "2.2.2\n"
          ]
        }
      ],
      "source": [
        "import pandas as pd\n",
        "print(pd.__version__)\n"
      ]
    },
    {
      "cell_type": "code",
      "source": [
        "import pandas as pd\n",
        "data = {'Name': ['Alice', 'Bob', 'Charlie'],\n",
        "        'Age': [25, 30, 35],\n",
        "        'City': ['New York', 'Los Angeles', 'Chicago']}\n",
        "df = pd.DataFrame(data)\n",
        "print(df)\n"
      ],
      "metadata": {
        "colab": {
          "base_uri": "https://localhost:8080/"
        },
        "id": "K9Av75mx4vtH",
        "outputId": "a6453378-0e6c-432e-f2d6-81025900a4a6"
      },
      "execution_count": null,
      "outputs": [
        {
          "output_type": "stream",
          "name": "stdout",
          "text": [
            "      Name  Age         City\n",
            "0    Alice   25     New York\n",
            "1      Bob   30  Los Angeles\n",
            "2  Charlie   35      Chicago\n"
          ]
        }
      ]
    },
    {
      "cell_type": "code",
      "source": [
        "import pandas as pd\n",
        "series_1 = pd.Series([100, 200, 300, 400, 500])\n",
        "print(series_1)\n"
      ],
      "metadata": {
        "colab": {
          "base_uri": "https://localhost:8080/"
        },
        "id": "w9Mors6f41-F",
        "outputId": "a37ec295-ddec-401c-d43b-f7275288daeb"
      },
      "execution_count": null,
      "outputs": [
        {
          "output_type": "stream",
          "name": "stdout",
          "text": [
            "0    100\n",
            "1    200\n",
            "2    300\n",
            "3    400\n",
            "4    500\n",
            "dtype: int64\n"
          ]
        }
      ]
    },
    {
      "cell_type": "code",
      "source": [
        "import pandas as pd\n",
        "print(series_1[1], series_1[3])\n"
      ],
      "metadata": {
        "colab": {
          "base_uri": "https://localhost:8080/"
        },
        "id": "hsduZtrB5exj",
        "outputId": "eb0b8842-b902-4c19-da54-34171bcb7dc7"
      },
      "execution_count": null,
      "outputs": [
        {
          "output_type": "stream",
          "name": "stdout",
          "text": [
            "200 400\n"
          ]
        }
      ]
    },
    {
      "cell_type": "code",
      "source": [
        "import pandas as pd\n",
        "series_2 = pd.Series([10, 20, 30, 40, 50])\n",
        "series_sum = series_1 + series_2\n",
        "print(series_sum)\n"
      ],
      "metadata": {
        "colab": {
          "base_uri": "https://localhost:8080/"
        },
        "id": "rgXnKXJI55TW",
        "outputId": "a51d46ee-9848-4777-f68c-d64a622efbc4"
      },
      "execution_count": null,
      "outputs": [
        {
          "output_type": "stream",
          "name": "stdout",
          "text": [
            "0    110\n",
            "1    220\n",
            "2    330\n",
            "3    440\n",
            "4    550\n",
            "dtype: int64\n"
          ]
        }
      ]
    },
    {
      "cell_type": "code",
      "source": [
        "import pandas as pd\n",
        "print(df[['Name', 'City']])\n"
      ],
      "metadata": {
        "colab": {
          "base_uri": "https://localhost:8080/"
        },
        "id": "T_lOZrPl6J3F",
        "outputId": "58843035-6bcf-4be2-fb14-f2a899c47a74"
      },
      "execution_count": null,
      "outputs": [
        {
          "output_type": "stream",
          "name": "stdout",
          "text": [
            "      Name         City\n",
            "0    Alice     New York\n",
            "1      Bob  Los Angeles\n",
            "2  Charlie      Chicago\n"
          ]
        }
      ]
    },
    {
      "cell_type": "code",
      "source": [
        "import pandas as pd\n",
        "df['Salary'] = [50000, 60000, 70000]\n",
        "print(df)\n"
      ],
      "metadata": {
        "colab": {
          "base_uri": "https://localhost:8080/"
        },
        "id": "YlW9-UJU6U3l",
        "outputId": "1fda70a7-7cb3-4f62-bd74-daa5bfdc75c7"
      },
      "execution_count": null,
      "outputs": [
        {
          "output_type": "stream",
          "name": "stdout",
          "text": [
            "      Name  Age         City  Salary\n",
            "0    Alice   25     New York   50000\n",
            "1      Bob   30  Los Angeles   60000\n",
            "2  Charlie   35      Chicago   70000\n"
          ]
        }
      ]
    },
    {
      "cell_type": "code",
      "source": [
        "import pandas as pd\n",
        "total_salary = df['Salary'].sum()\n",
        "print(\"The total salary is :\",total_salary)\n"
      ],
      "metadata": {
        "colab": {
          "base_uri": "https://localhost:8080/"
        },
        "id": "iYjTVavZ6ZmM",
        "outputId": "4af4491b-005b-4444-ddba-14a351898942"
      },
      "execution_count": null,
      "outputs": [
        {
          "output_type": "stream",
          "name": "stdout",
          "text": [
            "The total salary is : 180000\n"
          ]
        }
      ]
    },
    {
      "cell_type": "code",
      "source": [
        "import pandas as pd\n",
        "df_filtered_age = df[df['Age'] > 28]\n",
        "print(df_filtered_age)\n",
        "\n"
      ],
      "metadata": {
        "colab": {
          "base_uri": "https://localhost:8080/"
        },
        "id": "YIqKyIvj6lnr",
        "outputId": "2da5e98d-b89c-4f5f-9139-09fd1bd3c863"
      },
      "execution_count": null,
      "outputs": [
        {
          "output_type": "stream",
          "name": "stdout",
          "text": [
            "      Name  Age         City  Salary\n",
            "1      Bob   30  Los Angeles   60000\n",
            "2  Charlie   35      Chicago   70000\n"
          ]
        }
      ]
    },
    {
      "cell_type": "code",
      "source": [
        "import pandas as pd\n",
        "df_indexed = df.set_index('Name')\n",
        "print(df_indexed)\n",
        "df_reset = df_indexed.reset_index()\n",
        "print(df_reset)\n"
      ],
      "metadata": {
        "colab": {
          "base_uri": "https://localhost:8080/"
        },
        "id": "xOoz8XOZ62ib",
        "outputId": "7ac8df2a-9a45-46a2-9bd6-3c0387a74003"
      },
      "execution_count": null,
      "outputs": [
        {
          "output_type": "stream",
          "name": "stdout",
          "text": [
            "         Age         City  Salary\n",
            "Name                             \n",
            "Alice     25     New York   50000\n",
            "Bob       30  Los Angeles   60000\n",
            "Charlie   35      Chicago   70000\n",
            "      Name  Age         City  Salary\n",
            "0    Alice   25     New York   50000\n",
            "1      Bob   30  Los Angeles   60000\n",
            "2  Charlie   35      Chicago   70000\n"
          ]
        }
      ]
    },
    {
      "cell_type": "code",
      "source": [
        "import pandas as pd\n",
        "\n",
        "employee_data = {\n",
        "    'Name': ['John', 'Jane', 'Emily'],\n",
        "    'Department': ['Sales', 'Marketing', 'HR'],\n",
        "    'Salary': [50000, 60000, 55000]\n",
        "}\n",
        "\n",
        "df_employees = pd.DataFrame(employee_data)\n",
        "df_employees.to_csv('employees.csv', index=False)\n",
        "print(\"File created successfully.\")\n",
        "\n",
        "\n",
        "\n"
      ],
      "metadata": {
        "colab": {
          "base_uri": "https://localhost:8080/"
        },
        "id": "5neyLWzc7K3q",
        "outputId": "1b6246c3-a1bb-46cd-ba3a-7401126128b9"
      },
      "execution_count": null,
      "outputs": [
        {
          "output_type": "stream",
          "name": "stdout",
          "text": [
            "File created successfully.\n"
          ]
        }
      ]
    },
    {
      "cell_type": "code",
      "source": [
        "import pandas as pd\n",
        "df_from_csv = pd.read_csv('employees.csv')\n",
        "print(df_from_csv)\n",
        "\n"
      ],
      "metadata": {
        "colab": {
          "base_uri": "https://localhost:8080/"
        },
        "id": "1_a_29Ws7fsV",
        "outputId": "78b5123e-d2e9-4c39-f60e-9d66c2fda5a7"
      },
      "execution_count": null,
      "outputs": [
        {
          "output_type": "stream",
          "name": "stdout",
          "text": [
            "    Name Department  Salary\n",
            "0   John      Sales   50000\n",
            "1   Jane  Marketing   60000\n",
            "2  Emily         HR   55000\n"
          ]
        }
      ]
    },
    {
      "cell_type": "code",
      "source": [
        "import pandas as pd\n",
        "df_filtered_salary = df_from_csv[df_from_csv['Salary'] > 55000]\n",
        "print(df_filtered_salary)\n"
      ],
      "metadata": {
        "colab": {
          "base_uri": "https://localhost:8080/"
        },
        "id": "JySdQZmN7_PI",
        "outputId": "ab85b98e-348d-4d37-cc3e-92bcef400293"
      },
      "execution_count": null,
      "outputs": [
        {
          "output_type": "stream",
          "name": "stdout",
          "text": [
            "   Name Department  Salary\n",
            "1  Jane  Marketing   60000\n"
          ]
        }
      ]
    },
    {
      "cell_type": "code",
      "source": [
        "import pandas as pd\n",
        "avg_salary_by_dept = df_employees.groupby('Department')['Salary'].mean()\n",
        "print(avg_salary_by_dept)\n"
      ],
      "metadata": {
        "colab": {
          "base_uri": "https://localhost:8080/"
        },
        "id": "yQ30fyt78giE",
        "outputId": "0d2fa037-58c2-4eb4-ef11-18832f748a84"
      },
      "execution_count": null,
      "outputs": [
        {
          "output_type": "stream",
          "name": "stdout",
          "text": [
            "Department\n",
            "HR           55000.0\n",
            "Marketing    60000.0\n",
            "Sales        50000.0\n",
            "Name: Salary, dtype: float64\n"
          ]
        }
      ]
    },
    {
      "cell_type": "code",
      "source": [
        "import pandas as pd\n",
        "min_salary_by_dept = df_employees.groupby('Department')['Salary'].min()\n",
        "max_salary_by_dept = df_employees.groupby('Department')['Salary'].max()\n",
        "print(min_salary_by_dept, max_salary_by_dept)\n"
      ],
      "metadata": {
        "colab": {
          "base_uri": "https://localhost:8080/"
        },
        "id": "2OjVEYtW8qsT",
        "outputId": "06c3e7e1-85ba-4ee2-d91c-a9159db6cfe0"
      },
      "execution_count": null,
      "outputs": [
        {
          "output_type": "stream",
          "name": "stdout",
          "text": [
            "Department\n",
            "HR           55000\n",
            "Marketing    60000\n",
            "Sales        50000\n",
            "Name: Salary, dtype: int64 Department\n",
            "HR           55000\n",
            "Marketing    60000\n",
            "Sales        50000\n",
            "Name: Salary, dtype: int64\n"
          ]
        }
      ]
    },
    {
      "cell_type": "code",
      "source": [
        "import pandas as pd\n",
        "df1 = pd.DataFrame({\n",
        "    'Name': ['John', 'Jane', 'Emily'],\n",
        "    'Department': ['Sales', 'Marketing', 'HR']\n",
        "})\n",
        "df2 = pd.DataFrame({\n",
        "    'Name': ['John', 'Jane', 'Emily'],\n",
        "    'Experience (Years)': [5, 7, 3]\n",
        "})\n",
        "df_merged = pd.merge(df1, df2, on='Name')\n",
        "print(df_merged)\n"
      ],
      "metadata": {
        "colab": {
          "base_uri": "https://localhost:8080/"
        },
        "id": "pEZPyJ0p8xwd",
        "outputId": "01801b4a-7525-4fa7-8a91-d41ce3137638"
      },
      "execution_count": null,
      "outputs": [
        {
          "output_type": "stream",
          "name": "stdout",
          "text": [
            "    Name Department  Experience (Years)\n",
            "0   John      Sales                   5\n",
            "1   Jane  Marketing                   7\n",
            "2  Emily         HR                   3\n"
          ]
        }
      ]
    },
    {
      "cell_type": "code",
      "source": [
        "import pandas as pd\n",
        "df_sorted = df_merged.sort_values(by='Experience (Years)', ascending=False)\n",
        "print(df_sorted)\n"
      ],
      "metadata": {
        "colab": {
          "base_uri": "https://localhost:8080/"
        },
        "id": "32d1CMGN9YPH",
        "outputId": "73ccc2a7-c9c1-41d5-b48e-6c27c83fc8f5"
      },
      "execution_count": null,
      "outputs": [
        {
          "output_type": "stream",
          "name": "stdout",
          "text": [
            "    Name Department  Experience (Years)\n",
            "1   Jane  Marketing                   7\n",
            "0   John      Sales                   5\n",
            "2  Emily         HR                   3\n"
          ]
        }
      ]
    }
  ]
}